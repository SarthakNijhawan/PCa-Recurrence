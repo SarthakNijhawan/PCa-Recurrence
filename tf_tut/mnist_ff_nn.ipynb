{
 "cells": [
  {
   "cell_type": "code",
   "execution_count": 1,
   "metadata": {},
   "outputs": [],
   "source": [
    "import tensorflow as tf\n",
    "import numpy as np\n",
    "from tensorflow.examples.tutorials.mnist import input_data"
   ]
  },
  {
   "cell_type": "code",
   "execution_count": 2,
   "metadata": {},
   "outputs": [
    {
     "name": "stdout",
     "output_type": "stream",
     "text": [
      "Extracting ./tmp/data/train-images-idx3-ubyte.gz\n",
      "Extracting ./tmp/data/train-labels-idx1-ubyte.gz\n",
      "Extracting ./tmp/data/t10k-images-idx3-ubyte.gz\n",
      "Extracting ./tmp/data/t10k-labels-idx1-ubyte.gz\n"
     ]
    }
   ],
   "source": [
    "mnist = input_data.read_data_sets(\"./tmp/data/\", one_hot=True)\n",
    "n_nodes_hl1 = 500\n",
    "n_nodes_hl2 = 500\n",
    "n_nodes_hl3 = 500\n",
    "\n",
    "n_classes = 10\n",
    "batch_size = 100\n",
    "hm_epochs = 10"
   ]
  },
  {
   "cell_type": "code",
   "execution_count": 3,
   "metadata": {},
   "outputs": [],
   "source": [
    "def ff_nn_model(input_data):\n",
    "    \"\"\" NN Model function \"\"\"\n",
    "    \n",
    "    hidden_layer1 = {\n",
    "        'weights': tf.Variable(tf.random_normal([784, n_nodes_hl1])),\n",
    "        'biases': tf.Variable(tf.random_normal([1, n_nodes_hl1])),\n",
    "    }\n",
    "    \n",
    "    hidden_layer2 = {\n",
    "        'weights': tf.Variable(tf.random_normal([n_nodes_hl1, n_nodes_hl2])),\n",
    "        'biases': tf.Variable(tf.random_normal([1, n_nodes_hl2])),\n",
    "    }\n",
    "    \n",
    "    hidden_layer3 = {\n",
    "        'weights': tf.Variable(tf.random_normal([n_nodes_hl2, n_nodes_hl3])),\n",
    "        'biases': tf.Variable(tf.random_normal([1, n_nodes_hl3])),\n",
    "    }\n",
    "    \n",
    "    output_layer = {\n",
    "        'weights': tf.Variable(tf.random_normal([n_nodes_hl3, n_classes])),\n",
    "        'biases': tf.Variable(tf.random_normal([1, n_classes])),\n",
    "    }\n",
    "    \n",
    "    # (input_data * weights) + biases\n",
    "    \n",
    "    l1 = tf.add(tf.matmul(input_data, hidden_layer1[\"weights\"]),  hidden_layer1[\"biases\"])\n",
    "    act_l1 = tf.nn.relu(l1)\n",
    "    \n",
    "    l2 = tf.add(tf.matmul(act_l1, hidden_layer2[\"weights\"]), hidden_layer2[\"biases\"])\n",
    "    act_l2 = tf.nn.relu(l2)\n",
    "    \n",
    "    l3 = tf.add(tf.matmul(act_l2, hidden_layer3[\"weights\"]), hidden_layer3[\"biases\"])\n",
    "    act_l3 = tf.nn.relu(l3)\n",
    "    \n",
    "    output = tf.add(tf.matmul(act_l3, output_layer[\"weights\"]), output_layer[\"biases\"])\n",
    "    \n",
    "    return output"
   ]
  },
  {
   "cell_type": "code",
   "execution_count": 4,
   "metadata": {},
   "outputs": [],
   "source": [
    "def train_nn(batch_size=100, epochs=10):\n",
    "    x = tf.placeholder('float', [None, 784])\n",
    "    y = tf.placeholder('float')\n",
    "    \n",
    "    predictions = ff_nn_model(x)\n",
    "    cost = tf.reduce_mean(tf.nn.softmax_cross_entropy_with_logits(logits=predictions, labels=y))\n",
    "    optimizer = tf.train.AdamOptimizer().minimize(cost)    # default learning rate = 0.001\n",
    "        \n",
    "    with tf.Session() as sess:\n",
    "        sess.run(tf.global_variables_initializer())\n",
    "        \n",
    "        for epoch in range(epochs):\n",
    "            # For every epoch in training\n",
    "            epoch_loss = 0\n",
    "            for _ in range(int(mnist.train.num_examples/batch_size)):\n",
    "                epoch_x, epoch_y = mnist.train.next_batch(batch_size)\n",
    "                _, c = sess.run([optimizer, cost], feed_dict = {x: epoch_x, y: epoch_y})\n",
    "                epoch_loss += c\n",
    "                \n",
    "            print(\"Epoch : \", epoch, \"completed with a loss of \", epoch_loss )\n",
    "            \n",
    "            # Evaluate the model trained till the current epoch\n",
    "            correct = tf.equal(tf.argmax(predictions, 1), tf.argmax(y, 1))\n",
    "            accuracy = tf.reduce_mean(tf.cast(correct, 'float'))\n",
    "            print(\"Accuracy : \", accuracy.eval({x: mnist.test.images, y: mnist.test.labels}))\n",
    "            "
   ]
  },
  {
   "cell_type": "code",
   "execution_count": null,
   "metadata": {
    "scrolled": false
   },
   "outputs": [],
   "source": [
    "train_nn()"
   ]
  }
 ],
 "metadata": {
  "kernelspec": {
   "display_name": "Python 3",
   "language": "python",
   "name": "python3"
  },
  "language_info": {
   "codemirror_mode": {
    "name": "ipython",
    "version": 3
   },
   "file_extension": ".py",
   "mimetype": "text/x-python",
   "name": "python",
   "nbconvert_exporter": "python",
   "pygments_lexer": "ipython3",
   "version": "3.5.2"
  }
 },
 "nbformat": 4,
 "nbformat_minor": 2
}
