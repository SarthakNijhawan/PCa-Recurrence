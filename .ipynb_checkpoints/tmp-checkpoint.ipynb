{
 "cells": [
  {
   "cell_type": "code",
   "execution_count": 9,
   "metadata": {},
   "outputs": [],
   "source": [
    "from __future__ import absolute_import\n",
    "from __future__ import division\n",
    "from __future__ import print_function\n",
    "\n",
    "import numpy as np\n",
    "import matplotlib.pyplot as plt\n",
    "import cv2\n",
    "import os"
   ]
  },
  {
   "cell_type": "code",
   "execution_count": 20,
   "metadata": {},
   "outputs": [
    {
     "name": "stdout",
     "output_type": "stream",
     "text": [
      "\u001b[1m\u001b[32mPrognosisTMABlock5_7_4_5_H&E0.tif\u001b[m\u001b[m* \u001b[1m\u001b[32mPrognosisTMABlock5_8_4_5_H&E0.tif\u001b[m\u001b[m*\r\n",
      "\u001b[1m\u001b[32mPrognosisTMABlock5_7_5_5_H&E0.tif\u001b[m\u001b[m* \u001b[1m\u001b[32mPrognosisTMABlock5_8_5_5_H&E0.tif\u001b[m\u001b[m*\r\n"
     ]
    }
   ],
   "source": [
    "ls ./data_samples/Training/Tissue_images/"
   ]
  },
  {
   "cell_type": "code",
   "execution_count": 21,
   "metadata": {},
   "outputs": [
    {
     "data": {
      "text/plain": [
       "(2000, 2000, 3)"
      ]
     },
     "execution_count": 21,
     "metadata": {},
     "output_type": "execute_result"
    }
   ],
   "source": [
    "img=cv2.imread(\"./data_samples/Training/Tissue_images/PrognosisTMABlock5_7_4_5_H&E0.tif\")\n",
    "np.shape(img)"
   ]
  },
  {
   "cell_type": "code",
   "execution_count": 6,
   "metadata": {},
   "outputs": [
    {
     "name": "stdout",
     "output_type": "stream",
     "text": [
      "17.02 PCaRec SPIE.pdf                 patch_based_cnn.py\r\n",
      "\u001b[1m\u001b[34mMIL_material\u001b[m\u001b[m/                         prac_cnn_mnist.py\r\n",
      "\u001b[1m\u001b[34mdata_samples\u001b[m\u001b[m/                         \u001b[1m\u001b[34mstaining_part\u001b[m\u001b[m/\r\n",
      "patch-based WSI Classification.ipynb  \u001b[1m\u001b[34mvenv\u001b[m\u001b[m/\r\n",
      "patch-based-CNN.pdf\r\n"
     ]
    }
   ],
   "source": [
    "ls"
   ]
  },
  {
   "cell_type": "code",
   "execution_count": 10,
   "metadata": {},
   "outputs": [],
   "source": [
    "cur_dir = os.getcwd()\n",
    "train_dir = os.path.join(cur_dir, \"data_samples/Training/\")"
   ]
  },
  {
   "cell_type": "markdown",
   "metadata": {},
   "source": [
    "----------------------------- Updating the Discriminative Region of the images ---------------------------------------"
   ]
  },
  {
   "cell_type": "code",
   "execution_count": null,
   "metadata": {},
   "outputs": [],
   "source": []
  },
  {
   "cell_type": "markdown",
   "metadata": {},
   "source": [
    "------------------------------------ Creating Patches for a given list of images -------------------------------------"
   ]
  },
  {
   "cell_type": "code",
   "execution_count": 15,
   "metadata": {},
   "outputs": [],
   "source": []
  },
  {
   "cell_type": "code",
   "execution_count": 26,
   "metadata": {},
   "outputs": [],
   "source": [
    "def generate_patches(wsi_image, strides=1, patch_size=[101,101,3]):\n",
    "    \"\"\" Generates patches of continuous rectangular image regions with the given parameters.\n",
    "        Returns all the patches in a list corresponding to every image.\n",
    "    \"\"\"\n",
    "    \n",
    "    shape = np.shape(wsi_image)\n",
    "    n_in_x = (shape[0]-patch_size[0])/strides - 1\n",
    "    n_in_y = (shape[1]-patch_size[1])/strides - 1\n",
    "    patches = []\n",
    "    \n",
    "    for i in range(n_in_x):\n",
    "        for j in range(n_in_y):\n",
    "            patches += [wsi_image[i*strides:i*strides+patch_size[0], j*strides:j*strides+patch_size[1]],]\n",
    "            \n",
    "    return patches"
   ]
  },
  {
   "cell_type": "code",
   "execution_count": 27,
   "metadata": {},
   "outputs": [],
   "source": [
    "def prepare_data_for_training(image_list):\n",
    "    image_patches_list=[]\n",
    "    for i in range(len(image_list)):\n",
    "        image_patches_list.append(generate_patches(image_list[i]))\n",
    "    "
   ]
  },
  {
   "cell_type": "code",
   "execution_count": 36,
   "metadata": {},
   "outputs": [],
   "source": [
    "a=np.array([1,2,3,4,5])\n",
    "b=np.array([1,2])\n",
    "c=np.array([3,4])\n",
    "d=[a,b,c]"
   ]
  },
  {
   "cell_type": "code",
   "execution_count": 39,
   "metadata": {},
   "outputs": [
    {
     "data": {
      "text/plain": [
       "array([array([1, 2, 3, 4, 5]), array([1, 2]), array([3, 4])], dtype=object)"
      ]
     },
     "execution_count": 39,
     "metadata": {},
     "output_type": "execute_result"
    }
   ],
   "source": [
    "e=np.asarray(d)\n",
    "e"
   ]
  },
  {
   "cell_type": "code",
   "execution_count": 40,
   "metadata": {},
   "outputs": [],
   "source": [
    "l=np.array([])"
   ]
  },
  {
   "cell_type": "code",
   "execution_count": 46,
   "metadata": {},
   "outputs": [],
   "source": [
    "a=list(a)"
   ]
  },
  {
   "cell_type": "code",
   "execution_count": 47,
   "metadata": {},
   "outputs": [],
   "source": [
    "a.append([0,1])"
   ]
  },
  {
   "cell_type": "code",
   "execution_count": 48,
   "metadata": {},
   "outputs": [
    {
     "data": {
      "text/plain": [
       "[1, 2, 3, 4, 5, [0, 1]]"
      ]
     },
     "execution_count": 48,
     "metadata": {},
     "output_type": "execute_result"
    }
   ],
   "source": [
    "a"
   ]
  },
  {
   "cell_type": "code",
   "execution_count": null,
   "metadata": {},
   "outputs": [],
   "source": []
  }
 ],
 "metadata": {
  "kernelspec": {
   "display_name": "Python 3",
   "language": "python",
   "name": "python3"
  },
  "language_info": {
   "codemirror_mode": {
    "name": "ipython",
    "version": 3
   },
   "file_extension": ".py",
   "mimetype": "text/x-python",
   "name": "python",
   "nbconvert_exporter": "python",
   "pygments_lexer": "ipython3",
   "version": "3.5.2"
  }
 },
 "nbformat": 4,
 "nbformat_minor": 2
}
