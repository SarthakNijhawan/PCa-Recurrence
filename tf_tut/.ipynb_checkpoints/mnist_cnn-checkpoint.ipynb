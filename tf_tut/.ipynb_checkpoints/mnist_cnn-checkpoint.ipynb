{
 "cells": [
  {
   "cell_type": "code",
   "execution_count": null,
   "metadata": {},
   "outputs": [],
   "source": [
    "import tensorflow as tf\n",
    "import numpy as np\n",
    "from tensorflow.examples.tutorials.mnist import input_data"
   ]
  },
  {
   "cell_type": "code",
   "execution_count": null,
   "metadata": {},
   "outputs": [],
   "source": [
    "mnist = input_data.read_data_sets(\"./tmp/data/\", one_hot=True)\n",
    "\n",
    "n_classes = 10\n",
    "batch_size = 128"
   ]
  },
  {
   "cell_type": "code",
   "execution_count": null,
   "metadata": {},
   "outputs": [],
   "source": [
    "def cnn_model(x):\n",
    "    \"\"\" Model function for cnn \"\"\"\n",
    "    \n",
    "    weights = {\n",
    "        \"conv1\" : tf.Variable(tf.random_normal([5,5,1,32])),\n",
    "        \"conv2\" : tf.Variable(tf.random_normal([5,5,32,64])),\n",
    "        \"fc1\" : tf.Variable(tf.random_normal([7*7*64, 1024])),\n",
    "        \"fc2\" : tf.Variable(tf.random_normal([1024, n_classes])),\n",
    "    }\n",
    "    \n",
    "    biases = {\n",
    "        \"conv1\" : tf.Variable(tf.random_normal([32])),\n",
    "        \"conv2\" : tf.Variable(tf.random_normal([64])),\n",
    "        \"fc1\" : tf.Variable(tf.random_normal([1024])),\n",
    "        \"fc2\" : tf.Variable(tf.random_normal([n_classes])),\n",
    "    }\n",
    "    \n",
    "    x = tf.reshape(x, [-1, 28, 28, 1])\n",
    "    \n",
    "    # ---------------------------- Constructing the CNN --------------------------------------\n",
    "    # ----------x.shape = [28,28,1]\n",
    "    conv1 = tf.nn.conv2d(x, weights[\"conv1\"], strides=[1,1,1,1], padding=\"SAME\")\n",
    "    conv1 = tf.add(conv1, biases[\"conv1\"])\n",
    "    conv1 = tf.nn.relu(conv1)\n",
    "    \n",
    "    # ----------conv1.shape = [28,28,32]\n",
    "    conv1_pooled = tf.nn.max_pool(conv1, ksize=[1,2,2,1], strides=[1,2,2,1], padding=\"VALID\")\n",
    "    \n",
    "    # ----------conv1_pooled.shape = [14,14,32]\n",
    "    conv2 = tf.nn.conv2d(conv1_pooled, weights[\"conv2\"], strides=[1,1,1,1], padding=\"SAME\")\n",
    "    conv2 = tf.add(conv2, biases[\"conv2\"])\n",
    "    conv2 = tf.nn.relu(conv2)\n",
    "    \n",
    "    # ----------conv2_shape = [14,14,64]\n",
    "    conv2_pooled = tf.nn.max_pool(conv2, ksize=[1,2,2,1], strides=[1,2,2,1], padding=\"VALID\")\n",
    "    \n",
    "    # ----------conv2_pooled.shape = [7,7,64]\n",
    "    conv2_flat = tf.reshape(conv2_pooled, [-1, 7*7*64])\n",
    "    \n",
    "    fc1 = tf.add(tf.matmul(conv2_flat, weights[\"fc1\"]), biases[\"fc1\"])\n",
    "    fc1 = tf.nn.relu(fc1)\n",
    "    \n",
    "    output = tf.add(tf.matmul(fc1, weights[\"fc2\"]), biases[\"fc2\"])\n",
    "    \n",
    "    return output"
   ]
  },
  {
   "cell_type": "code",
   "execution_count": null,
   "metadata": {},
   "outputs": [],
   "source": [
    "def train_cnn(batch_size=128, epochs=10):\n",
    "    x = tf.placeholder('float', [None, 784])\n",
    "    y = tf.placeholder('float')\n",
    "    \n",
    "    predictions = cnn_model(x)\n",
    "    cost = tf.reduce_mean(tf.nn.softmax_cross_entropy_with_logits(logits=predictions, labels=y))\n",
    "    optimizer = tf.train.AdamOptimizer().minimize(cost)    # default learning rate = 0.001\n",
    "        \n",
    "    with tf.Session() as sess:\n",
    "        sess.run(tf.global_variables_initializer())\n",
    "        \n",
    "        for epoch in range(epochs):\n",
    "            # For every epoch in training\n",
    "            epoch_loss = 0\n",
    "            for _ in range(int(mnist.train.num_examples/batch_size)):\n",
    "                epoch_x, epoch_y = mnist.train.next_batch(batch_size)\n",
    "                _, c = sess.run([optimizer, cost], feed_dict = {x: epoch_x, y: epoch_y})\n",
    "                epoch_loss += c\n",
    "                \n",
    "            print(\"Epoch : \", epoch, \"completed with a loss of \", epoch_loss )\n",
    "            \n",
    "            # Evaluate the model trained till the current epoch\n",
    "            correct = tf.equal(tf.argmax(predictions, 1), tf.argmax(y, 1))\n",
    "            accuracy = tf.reduce_mean(tf.cast(correct, 'float'))\n",
    "            print(\"Accuracy : \", accuracy.eval({x: mnist.test.images, y: mnist.test.labels}))\n",
    "            "
   ]
  },
  {
   "cell_type": "code",
   "execution_count": null,
   "metadata": {},
   "outputs": [],
   "source": [
    "train_cnn()"
   ]
  },
  {
   "cell_type": "code",
   "execution_count": null,
   "metadata": {},
   "outputs": [],
   "source": []
  }
 ],
 "metadata": {
  "kernelspec": {
   "display_name": "Python 3",
   "language": "python",
   "name": "python3"
  },
  "language_info": {
   "codemirror_mode": {
    "name": "ipython",
    "version": 3
   },
   "file_extension": ".py",
   "mimetype": "text/x-python",
   "name": "python",
   "nbconvert_exporter": "python",
   "pygments_lexer": "ipython3",
   "version": "3.5.2"
  }
 },
 "nbformat": 4,
 "nbformat_minor": 2
}
